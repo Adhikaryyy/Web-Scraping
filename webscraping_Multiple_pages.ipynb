{
  "nbformat": 4,
  "nbformat_minor": 0,
  "metadata": {
    "colab": {
      "provenance": []
    },
    "kernelspec": {
      "name": "python3",
      "display_name": "Python 3"
    },
    "language_info": {
      "name": "python"
    }
  },
  "cells": [
    {
      "cell_type": "code",
      "execution_count": null,
      "metadata": {
        "id": "GvbU8g1FPSIY"
      },
      "outputs": [],
      "source": [
        "import requests\n",
        "from bs4 import BeautifulSoup\n"
      ]
    },
    {
      "cell_type": "code",
      "source": [
        "product_name=[]\n",
        "product_price=[]\n",
        "product_description=[]\n",
        "product_review=[]\n",
        "\n",
        "\n",
        "for i in range(2,5):\n",
        "  url='https://www.flipkart.com/search?q=mobile+under+50000&otracker=search&otracker1=search&marketplace=FLIPKART&as-show=off&as=off&page='+str(i)\n",
        "  response=requests.get(url)\n",
        "  soup=BeautifulSoup(response.text,'lxml')\n",
        "\n",
        "\n",
        "    #print(response.status_code)\n",
        "\n",
        "\n",
        "\n",
        "\n",
        "\n",
        "    # getting the name of the mobile phone\n",
        "  box=soup.find('div',class_=\"_1YokD2 _3Mn1Gg\")\n",
        "  names=box.find_all('div',class_='_4rR01T')\n",
        "    #print(name)\n",
        "  for i in names:\n",
        "    name=i.text\n",
        "    product_name.append(name)\n",
        "\n",
        "\n",
        "\n",
        "    # getting the price of mobile phone\n",
        "  prices=box.find_all('div',class_='_30jeq3 _1_WHN1')\n",
        "    #print(prices)\n",
        "  for i in prices:\n",
        "    price=i.text\n",
        "    product_price.append(price)\n",
        "\n",
        "\n",
        "\n",
        "\n",
        "  # getting the description of a particular mobile\n",
        "  descriptions=box.find_all('div',class_='fMghEO')\n",
        "  #print(descriptions)\n",
        "  for i in descriptions:\n",
        "    description=i.text\n",
        "    product_description.append(description)\n",
        "\n",
        "\n",
        "\n",
        "\n",
        "  # getting the reviews  of a particular mobile\n",
        "  reviews=box.find_all('div',class_='_3LWZlK')\n",
        "  #print(reviews)\n",
        "  for i in reviews:\n",
        "    review=i.text\n",
        "    product_review.append(review)\n",
        "\n",
        "\n",
        "\n",
        "\n",
        "\n",
        "\n",
        "\n",
        "\n",
        "\n",
        "#np=soup.find('a',class_='_1LKTO3').get('href')\n",
        "#cnp='https://www.flipkart.com'+np\n",
        "#print(cnp)"
      ],
      "metadata": {
        "id": "SKSRsUFhPlI5"
      },
      "execution_count": null,
      "outputs": []
    },
    {
      "cell_type": "code",
      "source": [
        "print(product_name)\n",
        "print(len(product_name))"
      ],
      "metadata": {
        "colab": {
          "base_uri": "https://localhost:8080/"
        },
        "id": "rrP8aO8QQCPX",
        "outputId": "ddcb357f-6997-43eb-a86d-be1bb7fa23d9"
      },
      "execution_count": null,
      "outputs": [
        {
          "output_type": "stream",
          "name": "stdout",
          "text": [
            "['OnePlus 9 Pro 5G (Pine Green, 256 GB)', 'OnePlus 10 Pro 5G (Volcanic Black, 128 GB)', 'IQOO 9T 5G (LEGEND, 128 GB)', 'OPPO Reno8 Pro 5G - House of The Dragon (House of The Dragon, 256 GB)', 'SAMSUNG Galaxy A54 5G (Awesome Graphite, 128 GB)', 'SAMSUNG Galaxy A73 5G (Awesome White, 128 GB)', 'OnePlus 9 Pro 5G (Stellar Black, 128 GB)', 'OnePlus 10T 5G (Moonstone Black, 128 GB)', 'OnePlus 9 Pro 5G (Stellar Black, 256 GB)', 'vivo X80 5G (Cosmic Black, 128 GB)', 'SAMSUNG Galaxy A73 5G (Awesome Gray, 128 GB)', 'realme GT 2 Pro (Paper White, 128 GB)', 'IQOO 9 Pro 5G (Dark Cruise, 256 GB)', 'realme X50 Pro 5G (Rust Red, 256 GB)', 'IQOO 9 Pro 5G (Legend, 256 GB)', 'APPLE iPhone 8 Plus (Space Grey, 64 GB)', 'OnePlus 9RT 5G (Hacker Black, 256 GB)', 'realme GT 2 Pro (Paper Green, 128 GB)', 'realme GT 2 Pro (Steel Black, 128 GB)', 'APPLE iPhone 8 Plus (Gold, 64 GB)', 'APPLE iPhone 8 Plus (Silver, 64 GB)', 'OPPO Reno8 Pro 5G (Glazed Green, 256 GB)', 'OPPO Reno8 Pro 5G (Glazed Black, 256 GB)', 'OnePlus 11R 5G (Sonic Black, 256 GB)', 'OnePlus 11R 5G (Galactic Silver, 128 GB)', 'Nothing Phone (2) (Dark Grey, 128 GB)', 'APPLE iPhone 11 (White, 128 GB)', 'APPLE iPhone 11 (Black, 128 GB)', 'APPLE iPhone 11 (White, 64 GB)', 'Google Pixel 7a (Charcoal, 128 GB)', 'Google Pixel 7a (Sea, 128 GB)', 'SAMSUNG Galaxy S21 FE 5G (Olive Green, 128 GB)', 'Google Pixel 7a (Snow, 128 GB)', 'APPLE iPhone 11 (Black, 64 GB)', 'Xiaomi 12 Pro 5G (Noir Black, 256 GB)', 'Xiaomi 12 Pro 5G (Opera Mauve, 256 GB)', 'vivo V25 Pro 5G (Sailing Blue, 256 GB)', 'SAMSUNG Galaxy A53 (Awesome Black, 256 GB)', 'OnePlus 10R 5G (Sierra Black, 256 GB)', 'vivo V27 Pro 5G (Magic Blue, 256 GB)', 'vivo V27 Pro 5G (Magic Blue, 256 GB)', 'OnePlus 10R 5G (Forest Green, 256 GB)', 'vivo X70 Pro (Aurora Dawn, 256 GB)', 'Tecno Phantom X2 Pro (Mars Orange, 256 GB)', 'OnePlus 10R (Forest Green, 256 GB)', 'Mi 10T (Lunar Silver, 128 GB)', 'Xiaomi 12 Pro 5G (Opera Mauve, 256 GB)', 'OnePlus 10R 5G (Forest Green, 256 GB)', 'OnePlus 10R 5G (Sierra Black, 256 GB)', 'vivo V25 Pro 5G (Pure Black, 256 GB)', 'vivo X70 Pro (Aurora Dawn, 256 GB)', 'vivo X70 Pro (Aurora Dawn, 128 GB)', 'vivo X70 Pro (Cosmic Black, 256 GB)', 'Xiaomi 12 Pro 5G (Noir Black, 256 GB)', 'Xiaomi 12 Pro 5G (Couture Blue, 256 GB)', 'APPLE iPhone 11 (Green, 64 GB)', 'Xiaomi 12 Pro 5G (Couture Blue, 256 GB)', 'OnePlus 9 5G (Arctic Sky, 256 GB)', 'OnePlus 9 Pro 5G (Stellar Black, 128 GB)', 'APPLE iPhone 11 (Purple, 64 GB)', 'OnePlus 11R 5G (Sonic Black, 256 GB)', 'SAMSUNG Galaxy A54 5G (Awesome Lime, 128 GB)', 'realme X50 Pro (Rust Red, 128 GB)', 'realme X50 Pro (Moss Green, 128 GB)', 'SAMSUNG Galaxy S20 FE (Cloud Navy, 128 GB)', 'IQOO 9T 5G (LEGEND, 128 GB)', 'OnePlus 9 5G (Winter Mist, 256 GB)', 'SAMSUNG Galaxy A73 5G (Awesome Gray, 256 GB)', 'OnePlus 7 Pro (Almond, 256 GB)', 'OnePlus 10R 5G (Sierra Black, 256 GB)', 'OnePlus 9RT 5G (Hacker Black, 128 GB)', 'vivo V23 Pro 5G (Stardust Black, 256 GB)']\n",
            "72\n"
          ]
        }
      ]
    },
    {
      "cell_type": "code",
      "source": [
        "print(product_price)\n",
        "print(len(product_price))"
      ],
      "metadata": {
        "colab": {
          "base_uri": "https://localhost:8080/"
        },
        "id": "5KU_v0X6Up8L",
        "outputId": "de752184-f6cd-4f8e-f6f0-9c6125806440"
      },
      "execution_count": null,
      "outputs": [
        {
          "output_type": "stream",
          "name": "stdout",
          "text": [
            "['₹54,450', '₹49,499', '₹49,499', '₹45,999', '₹38,999', '₹41,999', '₹46,490', '₹47,499', '₹49,999', '₹45,990', '₹41,999', '₹49,999', '₹48,890', '₹47,999', '₹46,540', '₹49,900', '₹49,999', '₹49,999', '₹49,999', '₹49,900', '₹49,900', '₹45,999', '₹45,999', '₹44,822', '₹39,924', '₹44,999', '₹44,999', '₹44,999', '₹41,999', '₹43,999', '₹43,999', '₹31,999', '₹43,999', '₹40,999', '₹44,999', '₹44,999', '₹36,890', '₹33,990', '₹40,999', '₹42,999', '₹39,999', '₹36,000', '₹44,999', '₹44,999', '₹35,499', '₹23,999', '₹41,999', '₹37,899', '₹42,999', '₹30,988', '₹43,999', '₹41,990', '₹44,490', '₹41,999', '₹44,999', '₹41,999', '₹41,999', '₹39,999', '₹44,990', '₹41,999', '₹44,990', '₹38,999', '₹41,999', '₹41,999', '₹50,010', '₹44,999', '₹38,590', '₹44,999', '₹42,534', '₹35,999', '₹42,999', '₹43,990']\n",
            "72\n"
          ]
        }
      ]
    },
    {
      "cell_type": "code",
      "source": [
        "print(product_description)\n",
        "print(len(product_description))"
      ],
      "metadata": {
        "colab": {
          "base_uri": "https://localhost:8080/"
        },
        "id": "cLHxnL3jxgPM",
        "outputId": "77af500c-aadc-4b00-9a03-82e0f4bf8e2b"
      },
      "execution_count": null,
      "outputs": [
        {
          "output_type": "stream",
          "name": "stdout",
          "text": [
            "['12 GB RAM | 256 GB ROM17.02 cm (6.7 inch) Display48MP Rear Camera4500 mAh Battery1 Year', '8 GB RAM | 128 GB ROM17.02 cm (6.7 inch) Display48MP Rear Camera | 32MP Front Camera5000 mAh Battery1 Year Manufacturer Warranty for Handset and 6 Months Warranty for In the Box Accessories', '8 GB RAM | 128 GB ROM17.22 cm (6.78 inch) Display50MP Rear Camera4700 mAh Battery1 Year', '12 GB RAM | 256 GB ROM17.02 cm (6.7 inch) Full HD+ AMOLED Display50MP + 8MP + 2MP | 32MP Front Camera4500 mAh Lithium-ion Polymer BatteryMediatek Dimensity 8100 Max Processor1 Year Warranty for Phone and 6 Months Warranty for In-Box Accessories', '8 GB RAM | 128 GB ROM | Expandable Upto 1 TB16.26 cm (6.4 inch) Full HD+ Display50MP + 12MP + 5MP | 32MP Front Camera5000 mAh BatteryExynos 1380, Octa Core Processor1 Year Manufacturer Warranty for Device and 6 Months Manufacturer Warranty for In-Box Accessories', '8 GB RAM | 128 GB ROM | Expandable Upto 1 TB17.02 cm (6.7 inch) Full HD+ Display108MP + 12MP + 5MP + 5MP | 32MP Front Camera5000 mAh Li-ion BatteryQualcomm Snapdragon 778G Processor1 Year Manufacturer Warranty for Device and 6 Months Manufacturer Warranty for In-Box', '8 GB RAM | 128 GB ROM17.02 cm (6.7 inch) Display48MP Rear Camera4500 mAh Battery1 Year Warranty', '8 GB RAM | 128 GB ROM17.02 cm (6.7 inch) Display50MP Rear Camera4800 mAh Battery1 Year Manufacturer Warranty for Handset and 6 Months Warranty for In the Box Accessories', '12 GB RAM | 256 GB ROM17.02 cm (6.7 inch) Display48MP Rear Camera4500 mAh Battery1 Year Warranty', '8 GB RAM | 128 GB ROM17.22 cm (6.78 inch) Display50MP Rear Camera4500 mAh Batterydomestic 1 Year on Handset and 6 Months on Accessories', '8 GB RAM | 128 GB ROM | Expandable Upto 1 TB17.02 cm (6.7 inch) Full HD+ Display108MP + 12MP + 5MP + 5MP | 32MP Front Camera5000 mAh Li-ion BatteryQualcomm Snapdragon 778G Processor1 Year Manufacturer Warranty for Device and 6 Months Manufacturer Warranty for In-Box', '8 GB RAM | 128 GB ROM17.02 cm (6.7 inch) Quad HD Display50MP + 50MP + 2MP | 32MP Front Camera5000 mAh Lithium Ion BatteryQualcomm Snapdragon 8 Gen 1 Mobile Platform Processor1 Year Manufacturer Warranty for Phone and 6 Months Warranty for In-Box Accessories', '8 GB RAM | 256 GB ROM17.22 cm (6.78 inch) Full HD+ Display50MP + 50MP + 50MP + 16MP | 16MP Front Camera4700 mAh BatterySnapdragon® 8 Gen 1 Mobile Processor Processor1 year manufacturer warranty', '12 GB RAM | 256 GB ROM16.36 cm (6.44 inch) Full HD+ Display64MP + 12MP + 8MP + 2MP | 32MP + 8MP Dual Front Camera4200 mAh Battery5G PhoneQualcomm Snapdragon 865 Processor65W Superdart ChargeBrand Warranty of 1 Year Available for Mobile and 6 Months for Accessories', '8 GB RAM | 256 GB ROM17.22 cm (6.78 inch) Full HD+ Display50MP + 50MP + 16MP | 16MP Front Camera4700 mAh BatterySnapdragon® 8 Gen 1 Mobile Processor Processor1 year manufacturer warranty', '64 GB ROM13.97 cm (5.5 inch) Retina HD Display12MP + 12MP | 7MP Front CameraA11 Bionic Chip with 64-bit Architecture, Neural Engine, Embedded M11 Motion Coprocessor ProcessorBrand Warranty of 1 Year', '8 GB RAM | 256 GB ROM16.81 cm (6.62 inch) Display50MP Rear Camera4500 mAh Battery12 months', '8 GB RAM | 128 GB ROM17.02 cm (6.7 inch) Quad HD Display50MP + 50MP + 2MP | 32MP Front Camera5000 mAh Lithium Ion BatteryQualcomm Snapdragon 8 Gen 1 Mobile Platform Processor1 Year Manufacturer Warranty for Phone and 6 Months Warranty for In-Box Accessories', '8 GB RAM | 128 GB ROM17.02 cm (6.7 inch) Quad HD Display50MP + 50MP + 2MP | 32MP Front Camera5000 mAh Lithium Ion BatteryQualcomm Snapdragon 8 Gen 1 Mobile Platform Processor1 Year Manufacturer Warranty for Phone and 6 Months Warranty for In-Box Accessories', '64 GB ROM13.97 cm (5.5 inch) Retina HD Display12MP + 12MP | 7MP Front CameraA11 Bionic Chip with 64-bit Architecture, Neural Engine, Embedded M11 Motion Coprocessor ProcessorBrand Warranty of 1 Year', '64 GB ROM13.97 cm (5.5 inch) Retina HD Display12MP + 12MP | 7MP Front CameraA11 Bionic Chip with 64-bit Architecture, Neural Engine, Embedded M11 Motion Coprocessor ProcessorBrand Warranty of 1 Year', '12 GB RAM | 256 GB ROM17.02 cm (6.7 inch) Full HD+ AMOLED Display50MP + 8MP + 2MP | 32MP Front Camera4500 mAh Lithium-ion Polymer BatteryMediatek Dimensity 8100 Max Processor1 Year Warranty for Phone and 6 Months Warranty for In-Box Accessories', '12 GB RAM | 256 GB ROM17.02 cm (6.7 inch) Full HD+ AMOLED Display50MP + 8MP + 2MP | 32MP Front Camera4500 mAh Lithium-ion Polymer BatteryMediatek Dimensity 8100 Max Processor1 Year Warranty for Phone and 6 Months Warranty for In-Box Accessories', '16 GB RAM | 256 GB ROM17.02 cm (6.7 inch) Display50MP Rear Camera5000 mAh BatteryDomestic warranty of 12 months on phone & 6 months on accessries', '8 GB RAM | 128 GB ROM17.02 cm (6.7 inch) Display50MP Rear Camera5000 mAh BatteryDomestic warranty of 12 months on phone & 6 months on accessories', '8 GB RAM | 128 GB ROM17.02 cm (6.7 inch) Full HD+ Display50 MP(OIS) +50MP | 32MP Front Camera4700 mAh Lithium ion BatteryQualcomm Snapdragon 8+ Gen 1 ProcessorLTPO AMOLED (1 Hz - 120 Hz)1 Year Manufacturing Warranty', '128 GB ROM15.49 cm (6.1 inch) Liquid Retina HD Display12MP + 12MP | 12MP Front CameraA13 Bionic Chip ProcessorBrand Warranty of 1 Year', '128 GB ROM15.49 cm (6.1 inch) Liquid Retina HD Display12MP + 12MP | 12MP Front CameraA13 Bionic Chip ProcessorBrand Warranty of 1 Year', '64 GB ROM15.49 cm (6.1 inch) Liquid Retina HD Display12MP + 12MP | 12MP Front CameraA13 Bionic Chip ProcessorBrand Warranty of 1 Year', '8 GB RAM | 128 GB ROM15.49 cm (6.1 inch) Full HD+ Display64MP (OIS) + 13MP | 13MP Front Camera4300 mAh BatteryTensor G2 Processor1 Year Domestic Warranty', '8 GB RAM | 128 GB ROM15.49 cm (6.1 inch) Full HD+ Display64MP (OIS) + 13MP | 13MP Front Camera4300 mAh BatteryTensor G2 Processor1 Year Domestic Warranty', '8 GB RAM | 128 GB ROM16.26 cm (6.4 inch) Full HD+ Display12MP + 12MP + 8MP (OIS) | 32MP Front Camera4500 mAh Lithium-ion Battery1 Year Manufacturer Warranty for Device and 6 Months Manufacturer Warranty for In-Box Accessories', '8 GB RAM | 128 GB ROM15.49 cm (6.1 inch) Full HD+ Display64MP (OIS) + 13MP | 13MP Front Camera4300 mAh BatteryTensor G2 Processor1 Year Domestic Warranty', '64 GB ROM15.49 cm (6.1 inch) Liquid Retina HD Display12MP + 12MP | 12MP Front CameraA13 Bionic Chip ProcessorBrand Warranty of 1 Year', '12 GB RAM | 256 GB ROM17.09 cm (6.73 inch) Full HD+ Display50MP + 50MP + 50MP | 32MP Front Camera4600 mAh Lithium Polymer BatterySnapdragon 8 Gen 1 Processor1 Year Manufacturer Warranty for Phone and 6 Months Warranty for In the Box Accessories', '12 GB RAM | 256 GB ROM17.09 cm (6.73 inch) Full HD+ Display50MP + 50MP + 50MP | 32MP Front Camera4600 mAh Lithium Polymer BatterySnapdragon 8 Gen 1 Processor1 Year Manufacturer Warranty for Phone and 6 Months Warranty for In the Box Accessories', '12 GB RAM | 256 GB ROM16.66 cm (6.56 inch) Full HD+ Display64MP + 8MP + 2MP | 32MP Front Camera4830 mAh Lithium BatteryMediatek Dimensity 1300 ProcessorColor Changing Fluorite AG Glass Design120 Hz 3D Curve Display1 Year on Handset and 6 Months on Accessories', '8 GB RAM | 256 GB ROM | Expandable Upto 1 TB16.51 cm (6.5 inch) Full HD+ Display64MP + 12MP + 5MP + 5MP | 32MP Front Camera5000 mAh Lithium Ion BatteryExynos Octa Core Processor Processor1 Year Manufacturer Warranty for Device and 6 Months Manufacturer Warranty for In-Box', '12 GB RAM | 256 GB ROM17.02 cm (6.7 inch) Display50MP Rear Camera | 16MP Front Camera5000 mAh Battery1 Year Manufacturer Warranty for Handset and 6 Months Warranty for In the Box Accessories', '12 GB RAM | 256 GB ROM17.22 cm (6.78 inch) Full HD+ Display50MP (OIS) + 8MP + 2MP | 50MP Front Camera4600 mAh BatteryMediatek Dimensity 8200 Processor1 Year Manufacturer Warranty for Phone and 6 Months Warranty for In the Box Accessories', '8 GB RAM | 256 GB ROM17.22 cm (6.78 inch) Full HD+ Display50MP (OIS) + 8MP + 2MP | 50MP Front Camera4600 mAh BatteryMediatek Dimensity 8200 Processor1 Year Manufacturer Warranty for Phone and 6 Months Warranty for In the Box Accessories', '12 GB RAM | 256 GB ROM17.02 cm (6.7 inch) Display50MP Rear Camera5000 mAh Battery12 months', '12 GB RAM | 256 GB ROM16.66 cm (6.56 inch) Full HD+ Display50MP + 12MP + 12MP + 8MP | 32MP Front Camera4450 mAh BatteryMediaTek Dimensity 1200 Processor1 Year for Handset and 6 Months for In-box Accessories', '12 GB RAM | 256 GB ROM17.27 cm (6.8 inch) Full HD+ Display50MP + 50MP + 13MP | 32MP Front Camera5160 mAh BatteryMediaTek Dimensity 9000 MT6983 ProcessorDomestic Warranty of 12 Months on Phone & 6 Months on Accessories', '12 GB RAM | 256 GB ROM17.02 cm (6.7 inch) Display50MP Rear Camera | 16MP Front Camera5000 mAh Battery1 Year Manufacturer Warranty for Handset and 6 Months Warranty for In the Box Accessories', '8 GB RAM | 128 GB ROM16.94 cm (6.67 inch) Full HD+ Display64MP + 13MP + 5MP | 20MP Front Camera5000 mAh Li-ion Polymer BatteryQualcomm Snapdragon 865 Processor144Hz Intelligent AdaptiveSync Display33W Dual Split Flash Charge1 Year Manufacturer Warranty for Device and 6 Months Manufacturer Warranty for In-box Accessories', '8 GB RAM | 256 GB ROM17.09 cm (6.73 inch) Full HD+ Display50MP + 50MP + 50MP | 32MP Front Camera4600 mAh Lithium Polymer BatterySnapdragon 8 Gen 1 Processor1 Year Manufacturer Warranty for Phone and 6 Months Warranty for In the Box Accessories', '12 GB RAM | 256 GB ROM17.02 cm (6.7 inch) Display50MP Rear Camera5000 mAh Battery12 months', '12 GB RAM | 256 GB ROM17.02 cm (6.7 inch) Display50MP Rear Camera4500 mAh Battery1 Year Manufacturer Warranty for Handset and 6 Months Warranty for In the Box Accessories', '12 GB RAM | 256 GB ROM16.66 cm (6.56 inch) Full HD+ Display64MP + 8MP + 2MP | 32MP Front Camera4830 mAh Lithium BatteryMediatek Dimensity 1300 ProcessorColor Changing Fluorite AG Glass Design120 Hz 3D Curve Display1 Year on Handset and 6 Months on Accessories', '8 GB RAM | 256 GB ROM16.66 cm (6.56 inch) Full HD+ Display50MP + 12MP + 12MP + 8MP | 32MP Front Camera4450 mAh BatteryMediaTek Dimensity 1200 Processor1 Year for Handset and 6 Months for In-box Accessories', '8 GB RAM | 128 GB ROM16.66 cm (6.56 inch) Full HD+ Display50MP + 12MP + 12MP + 8MP | 32MP Front Camera4450 mAh BatteryMediaTek Dimensity 1200 Processor1 Year for Handset and 6 Months for In-box Accessories', '8 GB RAM | 256 GB ROM16.66 cm (6.56 inch) Full HD+ Display50MP + 12MP + 12MP + 8MP | 32MP Front Camera4450 mAh BatteryMediaTek Dimensity 1200 Processor1 Year for Handset and 6 Months for In-box Accessories', '8 GB RAM | 256 GB ROM17.09 cm (6.73 inch) Full HD+ Display50MP + 50MP + 50MP | 32MP Front Camera4600 mAh Lithium Polymer BatterySnapdragon 8 Gen 1 Processor1 Year Manufacturer Warranty for Phone and 6 Months Warranty for In the Box Accessories', '12 GB RAM | 256 GB ROM17.09 cm (6.73 inch) Full HD+ Display50MP + 50MP + 50MP | 32MP Front Camera4600 mAh Lithium Polymer BatterySnapdragon 8 Gen 1 Processor1 Year Manufacturer Warranty for Phone and 6 Months Warranty for In the Box Accessories', '64 GB ROM15.49 cm (6.1 inch) Liquid Retina HD Display12MP + 12MP | 12MP Front CameraA13 Bionic Chip ProcessorBrand Warranty of 1 Year', '8 GB RAM | 256 GB ROM17.09 cm (6.73 inch) Full HD+ Display50MP + 50MP + 50MP | 32MP Front Camera4600 mAh Lithium Polymer BatterySnapdragon 8 Gen 1 Processor1 Year Manufacturer Warranty for Phone and 6 Months Warranty for In the Box Accessories', '12 GB RAM | 256 GB ROM16.64 cm (6.55 inch) Display48MP Rear Camera4500 mAh Battery1 Year Manufacturer Warranty for Handset and 6 Months Warranty for In the Box Accessories', '8 GB RAM | 128 GB ROM17.02 cm (6.7 inch) Display48MP Rear Camera4500 mAh Battery1 Year Manufacturer Warranty for Handset and 6 Months Warranty for In the Box Accessories', '64 GB ROM15.49 cm (6.1 inch) Liquid Retina HD Display12MP + 12MP | 12MP Front CameraA13 Bionic Chip ProcessorBrand Warranty of 1 Year', '16 GB RAM | 256 GB ROM17.02 cm (6.7 inch) Display50MP Rear Camera5000 mAh BatteryDomestic Warranty of 12 Months on Phone & 6 Months on Accessories', '8 GB RAM | 128 GB ROM | Expandable Upto 1 TB16.26 cm (6.4 inch) Full HD+ Display50MP + 12MP + 5MP | 32MP Front Camera5000 mAh BatteryExynos 1380, Octa Core Processor1 Year Manufacturer Warranty for Device and 6 Months Manufacturer Warranty for In-Box Accessories', '8 GB RAM | 128 GB ROM16.36 cm (6.44 inch) Full HD+ Display64MP + 12MP + 8MP + 2MP | 32MP + 8MP Dual Front Camera4200 mAh Battery5G PhoneQualcomm Snapdragon 865 Processor65W Superdart ChargeBrand Warranty of 1 Year Available for Mobile and 6 Months for Accessories', '8 GB RAM | 128 GB ROM16.36 cm (6.44 inch) Full HD+ Display64MP + 12MP + 8MP + 2MP | 32MP + 8MP Dual Front Camera4200 mAh Battery5G PhoneQualcomm Snapdragon 865 Processor65W Superdart ChargeBrand Warranty of 1 Year Available for Mobile and 6 Months for Accessories', '8 GB RAM | 128 GB ROM | Expandable Upto 1 TB16.51 cm (6.5 inch) Full HD+ Display12MP + 12MP + 8MP Rear Camera | 32MP Front Camera4500 mAh Lithium Ion BatteryExynos Octa Core ProcessorSuper AMOLED Display | 120 Hz RateIP68 Rating1 Year Warranty Provided by the Manufacturer from Date of Purchase', '8 GB RAM | 128 GB ROM17.22 cm (6.78 inch) Display50MP Rear Camera4700 mAh Battery1 Year', '12 GB RAM | 256 GB ROM16.64 cm (6.55 inch) Display48MP Rear Camera4500 mAh Battery1 Year', '8 GB RAM | 256 GB ROM | Expandable Upto 1 TB17.02 cm (6.7 inch) Full HD+ Display108MP + 12MP + 5MP + 5MP | 32MP Front Camera5000 mAh Li-ion BatteryQualcomm Snapdragon 778G Processor1 Year Manufacturer Warranty for Device and 6 Months Manufacturer Warranty for In-Box', '8 GB RAM | 256 GB ROM16.94 cm (6.67 inch) Display48 MP + 8 MP + 16 MP | 16MP Front Camera4000 mAh Battery1 year manufacturer warranty for device and 6 months manufacturer warranty for in-box accessories including batteries from the date of purchase', '12 GB RAM | 256 GB ROM17.02 cm (6.7 inch) Display50MP Rear Camera4500 mAh Battery1 Year Manufacturer Warranty for Handset and 6 Months Warranty for In the Box Accessories', '8 GB RAM | 128 GB ROM16.81 cm (6.62 inch) Display50MP Rear Camera4500 mAh Battery12 months', '12 GB RAM | 256 GB ROM16.66 cm (6.56 inch) Full HD+ Display108MP + 8MP + 2MP | 50MP + 8MP Dual Front Camera4300 mAh Lithium BatteryMediatek Dimensity 1200 Processor1 Year Manufacturer Warranty for Phone and 6 Months Warranty for In the Box Accessories']\n",
            "72\n"
          ]
        }
      ]
    },
    {
      "cell_type": "code",
      "source": [
        "print(product_review)\n",
        "print(len(product_review))"
      ],
      "metadata": {
        "colab": {
          "base_uri": "https://localhost:8080/"
        },
        "id": "Z1NMiqSMxkCt",
        "outputId": "d006ebfc-6430-436a-b2b6-d017e43f371c"
      },
      "execution_count": null,
      "outputs": [
        {
          "output_type": "stream",
          "name": "stdout",
          "text": [
            "['3.8', '4.1', '4.1', '4.3', '4.3', '4.2', '4.2', '4.3', '3.8', '4.2', '4.2', '3.9', '4.3', '3.9', '4.6', '4.3', '4.2', '4.2', '4.6', '4.6', '4.4', '4.4', '4.5', '4.5', '4.5', '4.6', '4.6', '4.6', '4', '4', '4.3', '4', '4.6', '4.1', '4.1', '4.3', '4.1', '4.2', '4.5', '4.4', '4.2', '4.4', '4', '4.1', '4.1', '4.1', '4.2', '4.2', '4.3', '4.5', '4.5', '4.5', '4.1', '4.1', '4.6', '4.1', '4', '4.2', '4.6', '4.5', '4.3', '4.4', '4.4', '4', '4.1', '4', '4.2', '4.5', '4.2', '4.3', '4.2']\n",
            "71\n"
          ]
        }
      ]
    },
    {
      "cell_type": "code",
      "source": [
        "import pandas as pd\n",
        "from itertools import zip_longest\n",
        "import numpy as np\n",
        "data=({\"Product Name\":product_name,\"Product_prices\":product_price,'Product_descriptions':product_description,'Product_reviews':product_review})"
      ],
      "metadata": {
        "id": "JwE3JY0oxrra"
      },
      "execution_count": null,
      "outputs": []
    },
    {
      "cell_type": "code",
      "source": [
        "'''max_length = max(len(lst) for lst in data.values())\n",
        "\n",
        "# Pad each list with NaN to make them equal length\n",
        "for key in data:\n",
        "    data[key] += [np.nan] * (max_length - len(data[key]))'''\n"
      ],
      "metadata": {
        "id": "26Xkh6YKIfLO"
      },
      "execution_count": null,
      "outputs": []
    },
    {
      "cell_type": "code",
      "source": [
        "#df = pd.DataFrame({key: pd.Series(data[key]) for key in data})"
      ],
      "metadata": {
        "id": "rjNOEaWyNAKd"
      },
      "execution_count": null,
      "outputs": []
    },
    {
      "cell_type": "code",
      "source": [
        "\n",
        "# Create DataFrame from dictionary with 'orient' set to 'index'\n",
        "df = pd.DataFrame.from_dict(data, orient='index').transpose()"
      ],
      "metadata": {
        "id": "wZ4Fux-lNobg"
      },
      "execution_count": null,
      "outputs": []
    },
    {
      "cell_type": "code",
      "source": [
        "type(df)"
      ],
      "metadata": {
        "colab": {
          "base_uri": "https://localhost:8080/"
        },
        "id": "hEGQZZsbN56P",
        "outputId": "75126300-65ec-4380-8faa-f45ba9b39189"
      },
      "execution_count": null,
      "outputs": [
        {
          "output_type": "execute_result",
          "data": {
            "text/plain": [
              "pandas.core.frame.DataFrame"
            ]
          },
          "metadata": {},
          "execution_count": 214
        }
      ]
    },
    {
      "cell_type": "code",
      "source": [
        "df.to_csv('mobile_price_under_50000.csv')"
      ],
      "metadata": {
        "id": "7TQ5fvSQ7aNG"
      },
      "execution_count": null,
      "outputs": []
    },
    {
      "cell_type": "code",
      "source": [
        "df.isnull().sum()"
      ],
      "metadata": {
        "colab": {
          "base_uri": "https://localhost:8080/"
        },
        "id": "N3yFEHIdMHRu",
        "outputId": "8cb74777-72d7-4c91-d901-1148f64d589b"
      },
      "execution_count": null,
      "outputs": [
        {
          "output_type": "execute_result",
          "data": {
            "text/plain": [
              "Product Name            0\n",
              "Product_prices          0\n",
              "Product_descriptions    0\n",
              "Product_reviews         1\n",
              "dtype: int64"
            ]
          },
          "metadata": {},
          "execution_count": 211
        }
      ]
    },
    {
      "cell_type": "code",
      "source": [
        "df.head()"
      ],
      "metadata": {
        "colab": {
          "base_uri": "https://localhost:8080/",
          "height": 337
        },
        "id": "eRSmXqsNNLev",
        "outputId": "18b32fae-55f2-4958-a953-6a5b41a8f960"
      },
      "execution_count": null,
      "outputs": [
        {
          "output_type": "execute_result",
          "data": {
            "text/plain": [
              "                                        Product Name Product_prices  \\\n",
              "0              OnePlus 9 Pro 5G (Pine Green, 256 GB)        ₹54,450   \n",
              "1         OnePlus 10 Pro 5G (Volcanic Black, 128 GB)        ₹49,499   \n",
              "2                        IQOO 9T 5G (LEGEND, 128 GB)        ₹49,499   \n",
              "3  OPPO Reno8 Pro 5G - House of The Dragon (House...        ₹45,999   \n",
              "4   SAMSUNG Galaxy A54 5G (Awesome Graphite, 128 GB)        ₹38,999   \n",
              "\n",
              "                                Product_descriptions Product_reviews  \n",
              "0  12 GB RAM | 256 GB ROM17.02 cm (6.7 inch) Disp...             3.8  \n",
              "1  8 GB RAM | 128 GB ROM17.02 cm (6.7 inch) Displ...             4.1  \n",
              "2  8 GB RAM | 128 GB ROM17.22 cm (6.78 inch) Disp...             4.1  \n",
              "3  12 GB RAM | 256 GB ROM17.02 cm (6.7 inch) Full...             4.3  \n",
              "4  8 GB RAM | 128 GB ROM | Expandable Upto 1 TB16...             4.3  "
            ],
            "text/html": [
              "\n",
              "\n",
              "  <div id=\"df-50c50fa6-9bf6-4fa4-bb42-8e3011b6801f\">\n",
              "    <div class=\"colab-df-container\">\n",
              "      <div>\n",
              "<style scoped>\n",
              "    .dataframe tbody tr th:only-of-type {\n",
              "        vertical-align: middle;\n",
              "    }\n",
              "\n",
              "    .dataframe tbody tr th {\n",
              "        vertical-align: top;\n",
              "    }\n",
              "\n",
              "    .dataframe thead th {\n",
              "        text-align: right;\n",
              "    }\n",
              "</style>\n",
              "<table border=\"1\" class=\"dataframe\">\n",
              "  <thead>\n",
              "    <tr style=\"text-align: right;\">\n",
              "      <th></th>\n",
              "      <th>Product Name</th>\n",
              "      <th>Product_prices</th>\n",
              "      <th>Product_descriptions</th>\n",
              "      <th>Product_reviews</th>\n",
              "    </tr>\n",
              "  </thead>\n",
              "  <tbody>\n",
              "    <tr>\n",
              "      <th>0</th>\n",
              "      <td>OnePlus 9 Pro 5G (Pine Green, 256 GB)</td>\n",
              "      <td>₹54,450</td>\n",
              "      <td>12 GB RAM | 256 GB ROM17.02 cm (6.7 inch) Disp...</td>\n",
              "      <td>3.8</td>\n",
              "    </tr>\n",
              "    <tr>\n",
              "      <th>1</th>\n",
              "      <td>OnePlus 10 Pro 5G (Volcanic Black, 128 GB)</td>\n",
              "      <td>₹49,499</td>\n",
              "      <td>8 GB RAM | 128 GB ROM17.02 cm (6.7 inch) Displ...</td>\n",
              "      <td>4.1</td>\n",
              "    </tr>\n",
              "    <tr>\n",
              "      <th>2</th>\n",
              "      <td>IQOO 9T 5G (LEGEND, 128 GB)</td>\n",
              "      <td>₹49,499</td>\n",
              "      <td>8 GB RAM | 128 GB ROM17.22 cm (6.78 inch) Disp...</td>\n",
              "      <td>4.1</td>\n",
              "    </tr>\n",
              "    <tr>\n",
              "      <th>3</th>\n",
              "      <td>OPPO Reno8 Pro 5G - House of The Dragon (House...</td>\n",
              "      <td>₹45,999</td>\n",
              "      <td>12 GB RAM | 256 GB ROM17.02 cm (6.7 inch) Full...</td>\n",
              "      <td>4.3</td>\n",
              "    </tr>\n",
              "    <tr>\n",
              "      <th>4</th>\n",
              "      <td>SAMSUNG Galaxy A54 5G (Awesome Graphite, 128 GB)</td>\n",
              "      <td>₹38,999</td>\n",
              "      <td>8 GB RAM | 128 GB ROM | Expandable Upto 1 TB16...</td>\n",
              "      <td>4.3</td>\n",
              "    </tr>\n",
              "  </tbody>\n",
              "</table>\n",
              "</div>\n",
              "      <button class=\"colab-df-convert\" onclick=\"convertToInteractive('df-50c50fa6-9bf6-4fa4-bb42-8e3011b6801f')\"\n",
              "              title=\"Convert this dataframe to an interactive table.\"\n",
              "              style=\"display:none;\">\n",
              "\n",
              "  <svg xmlns=\"http://www.w3.org/2000/svg\" height=\"24px\"viewBox=\"0 0 24 24\"\n",
              "       width=\"24px\">\n",
              "    <path d=\"M0 0h24v24H0V0z\" fill=\"none\"/>\n",
              "    <path d=\"M18.56 5.44l.94 2.06.94-2.06 2.06-.94-2.06-.94-.94-2.06-.94 2.06-2.06.94zm-11 1L8.5 8.5l.94-2.06 2.06-.94-2.06-.94L8.5 2.5l-.94 2.06-2.06.94zm10 10l.94 2.06.94-2.06 2.06-.94-2.06-.94-.94-2.06-.94 2.06-2.06.94z\"/><path d=\"M17.41 7.96l-1.37-1.37c-.4-.4-.92-.59-1.43-.59-.52 0-1.04.2-1.43.59L10.3 9.45l-7.72 7.72c-.78.78-.78 2.05 0 2.83L4 21.41c.39.39.9.59 1.41.59.51 0 1.02-.2 1.41-.59l7.78-7.78 2.81-2.81c.8-.78.8-2.07 0-2.86zM5.41 20L4 18.59l7.72-7.72 1.47 1.35L5.41 20z\"/>\n",
              "  </svg>\n",
              "      </button>\n",
              "\n",
              "\n",
              "\n",
              "    <div id=\"df-8fd74425-1f90-4813-95ba-39ff0c4fb742\">\n",
              "      <button class=\"colab-df-quickchart\" onclick=\"quickchart('df-8fd74425-1f90-4813-95ba-39ff0c4fb742')\"\n",
              "              title=\"Suggest charts.\"\n",
              "              style=\"display:none;\">\n",
              "\n",
              "<svg xmlns=\"http://www.w3.org/2000/svg\" height=\"24px\"viewBox=\"0 0 24 24\"\n",
              "     width=\"24px\">\n",
              "    <g>\n",
              "        <path d=\"M19 3H5c-1.1 0-2 .9-2 2v14c0 1.1.9 2 2 2h14c1.1 0 2-.9 2-2V5c0-1.1-.9-2-2-2zM9 17H7v-7h2v7zm4 0h-2V7h2v10zm4 0h-2v-4h2v4z\"/>\n",
              "    </g>\n",
              "</svg>\n",
              "      </button>\n",
              "    </div>\n",
              "\n",
              "<style>\n",
              "  .colab-df-quickchart {\n",
              "    background-color: #E8F0FE;\n",
              "    border: none;\n",
              "    border-radius: 50%;\n",
              "    cursor: pointer;\n",
              "    display: none;\n",
              "    fill: #1967D2;\n",
              "    height: 32px;\n",
              "    padding: 0 0 0 0;\n",
              "    width: 32px;\n",
              "  }\n",
              "\n",
              "  .colab-df-quickchart:hover {\n",
              "    background-color: #E2EBFA;\n",
              "    box-shadow: 0px 1px 2px rgba(60, 64, 67, 0.3), 0px 1px 3px 1px rgba(60, 64, 67, 0.15);\n",
              "    fill: #174EA6;\n",
              "  }\n",
              "\n",
              "  [theme=dark] .colab-df-quickchart {\n",
              "    background-color: #3B4455;\n",
              "    fill: #D2E3FC;\n",
              "  }\n",
              "\n",
              "  [theme=dark] .colab-df-quickchart:hover {\n",
              "    background-color: #434B5C;\n",
              "    box-shadow: 0px 1px 3px 1px rgba(0, 0, 0, 0.15);\n",
              "    filter: drop-shadow(0px 1px 2px rgba(0, 0, 0, 0.3));\n",
              "    fill: #FFFFFF;\n",
              "  }\n",
              "</style>\n",
              "\n",
              "    <script>\n",
              "      async function quickchart(key) {\n",
              "        const containerElement = document.querySelector('#' + key);\n",
              "        const charts = await google.colab.kernel.invokeFunction(\n",
              "            'suggestCharts', [key], {});\n",
              "      }\n",
              "    </script>\n",
              "\n",
              "      <script>\n",
              "\n",
              "function displayQuickchartButton(domScope) {\n",
              "  let quickchartButtonEl =\n",
              "    domScope.querySelector('#df-8fd74425-1f90-4813-95ba-39ff0c4fb742 button.colab-df-quickchart');\n",
              "  quickchartButtonEl.style.display =\n",
              "    google.colab.kernel.accessAllowed ? 'block' : 'none';\n",
              "}\n",
              "\n",
              "        displayQuickchartButton(document);\n",
              "      </script>\n",
              "      <style>\n",
              "    .colab-df-container {\n",
              "      display:flex;\n",
              "      flex-wrap:wrap;\n",
              "      gap: 12px;\n",
              "    }\n",
              "\n",
              "    .colab-df-convert {\n",
              "      background-color: #E8F0FE;\n",
              "      border: none;\n",
              "      border-radius: 50%;\n",
              "      cursor: pointer;\n",
              "      display: none;\n",
              "      fill: #1967D2;\n",
              "      height: 32px;\n",
              "      padding: 0 0 0 0;\n",
              "      width: 32px;\n",
              "    }\n",
              "\n",
              "    .colab-df-convert:hover {\n",
              "      background-color: #E2EBFA;\n",
              "      box-shadow: 0px 1px 2px rgba(60, 64, 67, 0.3), 0px 1px 3px 1px rgba(60, 64, 67, 0.15);\n",
              "      fill: #174EA6;\n",
              "    }\n",
              "\n",
              "    [theme=dark] .colab-df-convert {\n",
              "      background-color: #3B4455;\n",
              "      fill: #D2E3FC;\n",
              "    }\n",
              "\n",
              "    [theme=dark] .colab-df-convert:hover {\n",
              "      background-color: #434B5C;\n",
              "      box-shadow: 0px 1px 3px 1px rgba(0, 0, 0, 0.15);\n",
              "      filter: drop-shadow(0px 1px 2px rgba(0, 0, 0, 0.3));\n",
              "      fill: #FFFFFF;\n",
              "    }\n",
              "  </style>\n",
              "\n",
              "      <script>\n",
              "        const buttonEl =\n",
              "          document.querySelector('#df-50c50fa6-9bf6-4fa4-bb42-8e3011b6801f button.colab-df-convert');\n",
              "        buttonEl.style.display =\n",
              "          google.colab.kernel.accessAllowed ? 'block' : 'none';\n",
              "\n",
              "        async function convertToInteractive(key) {\n",
              "          const element = document.querySelector('#df-50c50fa6-9bf6-4fa4-bb42-8e3011b6801f');\n",
              "          const dataTable =\n",
              "            await google.colab.kernel.invokeFunction('convertToInteractive',\n",
              "                                                     [key], {});\n",
              "          if (!dataTable) return;\n",
              "\n",
              "          const docLinkHtml = 'Like what you see? Visit the ' +\n",
              "            '<a target=\"_blank\" href=https://colab.research.google.com/notebooks/data_table.ipynb>data table notebook</a>'\n",
              "            + ' to learn more about interactive tables.';\n",
              "          element.innerHTML = '';\n",
              "          dataTable['output_type'] = 'display_data';\n",
              "          await google.colab.output.renderOutput(dataTable, element);\n",
              "          const docLink = document.createElement('div');\n",
              "          docLink.innerHTML = docLinkHtml;\n",
              "          element.appendChild(docLink);\n",
              "        }\n",
              "      </script>\n",
              "    </div>\n",
              "  </div>\n"
            ]
          },
          "metadata": {},
          "execution_count": 216
        }
      ]
    },
    {
      "cell_type": "code",
      "source": [
        "\n",
        "\n"
      ],
      "metadata": {
        "id": "zlZFQXNiPYhu"
      },
      "execution_count": null,
      "outputs": []
    },
    {
      "cell_type": "code",
      "source": [
        "import re\n",
        "def num_only(x):\n",
        "  number_only=re.sub(r'\\D','',x)\n",
        "  return number_only"
      ],
      "metadata": {
        "id": "6TdiQytwPdi9"
      },
      "execution_count": null,
      "outputs": []
    },
    {
      "cell_type": "code",
      "source": [
        "num_only('₹38,999')"
      ],
      "metadata": {
        "colab": {
          "base_uri": "https://localhost:8080/",
          "height": 36
        },
        "id": "dEPL7gJpPwIQ",
        "outputId": "4ebef7cf-1e84-4c1a-8337-e4d0bb52b8f0"
      },
      "execution_count": null,
      "outputs": [
        {
          "output_type": "execute_result",
          "data": {
            "text/plain": [
              "'38999'"
            ],
            "application/vnd.google.colaboratory.intrinsic+json": {
              "type": "string"
            }
          },
          "metadata": {},
          "execution_count": 222
        }
      ]
    }
  ]
}